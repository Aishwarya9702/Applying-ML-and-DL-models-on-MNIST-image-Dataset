{
 "cells": [
  {
   "cell_type": "markdown",
   "id": "f52a2b3e-bac1-4aae-833e-2582ea6d29ee",
   "metadata": {},
   "source": [
    "# Importing Required Libraries"
   ]
  },
  {
   "cell_type": "code",
   "execution_count": 1,
   "id": "14c17e03-735b-4d2a-8136-83bc5ea84149",
   "metadata": {},
   "outputs": [],
   "source": [
    "import numpy as np\n",
    "import pandas as pd\n",
    "import matplotlib.pyplot as plt\n",
    "from sklearn.ensemble import RandomForestClassifier\n",
    "from sklearn.svm import SVC\n",
    "from sklearn.metrics import accuracy_score, classification_report\n",
    "from sklearn.model_selection import train_test_split\n",
    "from tensorflow.keras.datasets import mnist\n",
    "from tensorflow.keras.models import Sequential\n",
    "from tensorflow.keras.layers import Conv2D, MaxPooling2D, Flatten, Dense\n",
    "from tensorflow.keras.utils import to_categorical"
   ]
  },
  {
   "cell_type": "markdown",
   "id": "89cf4630-d8c3-4e2f-beda-4306374f6aa5",
   "metadata": {},
   "source": [
    "# The MNIST (Modified National Institute of Standards and Technology) dataset is a benchmark dataset in the field of machine learning and computer vision. It originally consists of 60,000 grayscale images for training and 10,000 images for testing, each depicting handwritten digits from 0 to 9. Every image is 28x28 pixels in size, making it ideal for tasks like digit classification and image recognition. While the standard dataset is pre-divided into training and testing sets, in this project we have combined both and applied a custom 80/20 split. This approach ensures a more flexible and balanced partitioning of the data for model evaluation and training."
   ]
  },
  {
   "cell_type": "markdown",
   "id": "18e7f529-24cc-4cf6-bb4d-77b2298267fc",
   "metadata": {},
   "source": [
    "# Load default split from MNIST"
   ]
  },
  {
   "cell_type": "code",
   "execution_count": 2,
   "id": "d30fbee9-3780-48f4-b5e7-8d5dbeae6f36",
   "metadata": {},
   "outputs": [],
   "source": [
    "(X_train_orig, y_train_orig), (X_test_orig, y_test_orig) = mnist.load_data()"
   ]
  },
  {
   "cell_type": "markdown",
   "id": "741b59e7-cdc1-49ed-b84d-582fd2cd6321",
   "metadata": {},
   "source": [
    "# Combine original train and test sets"
   ]
  },
  {
   "cell_type": "code",
   "execution_count": 3,
   "id": "3c5eb2e4-dc8a-4e5b-b000-29ba022c4043",
   "metadata": {},
   "outputs": [],
   "source": [
    "X_full = np.concatenate((X_train_orig, X_test_orig), axis=0)\n",
    "y_full = np.concatenate((y_train_orig, y_test_orig), axis=0)"
   ]
  },
  {
   "cell_type": "markdown",
   "id": "df1c64b8-40cd-47e3-a181-f280682fd3b1",
   "metadata": {},
   "source": [
    "# Splitting the dataset into 2 sets i.e. 80% in Training set and 20% in Testing set"
   ]
  },
  {
   "cell_type": "code",
   "execution_count": 4,
   "id": "c566436c-1464-451e-8007-6ea3dcbe0553",
   "metadata": {},
   "outputs": [],
   "source": [
    "X_train, X_test, y_train, y_test = train_test_split(X_full, y_full, test_size=0.2, random_state=42, stratify=y_full)"
   ]
  },
  {
   "cell_type": "markdown",
   "id": "51f1e4f2-4978-4e90-a3f9-891249cc7a91",
   "metadata": {},
   "source": [
    "# Reading Dataset"
   ]
  },
  {
   "cell_type": "code",
   "execution_count": 5,
   "id": "276a08e6-244b-4dc4-a903-b3fb8c5bcb40",
   "metadata": {},
   "outputs": [
    {
     "data": {
      "text/html": [
       "<div>\n",
       "<style scoped>\n",
       "    .dataframe tbody tr th:only-of-type {\n",
       "        vertical-align: middle;\n",
       "    }\n",
       "\n",
       "    .dataframe tbody tr th {\n",
       "        vertical-align: top;\n",
       "    }\n",
       "\n",
       "    .dataframe thead th {\n",
       "        text-align: right;\n",
       "    }\n",
       "</style>\n",
       "<table border=\"1\" class=\"dataframe\">\n",
       "  <thead>\n",
       "    <tr style=\"text-align: right;\">\n",
       "      <th></th>\n",
       "      <th>0</th>\n",
       "      <th>1</th>\n",
       "      <th>2</th>\n",
       "      <th>3</th>\n",
       "      <th>4</th>\n",
       "      <th>5</th>\n",
       "      <th>6</th>\n",
       "      <th>7</th>\n",
       "      <th>8</th>\n",
       "      <th>9</th>\n",
       "      <th>...</th>\n",
       "      <th>774</th>\n",
       "      <th>775</th>\n",
       "      <th>776</th>\n",
       "      <th>777</th>\n",
       "      <th>778</th>\n",
       "      <th>779</th>\n",
       "      <th>780</th>\n",
       "      <th>781</th>\n",
       "      <th>782</th>\n",
       "      <th>783</th>\n",
       "    </tr>\n",
       "  </thead>\n",
       "  <tbody>\n",
       "    <tr>\n",
       "      <th>0</th>\n",
       "      <td>0</td>\n",
       "      <td>0</td>\n",
       "      <td>0</td>\n",
       "      <td>0</td>\n",
       "      <td>0</td>\n",
       "      <td>0</td>\n",
       "      <td>0</td>\n",
       "      <td>0</td>\n",
       "      <td>0</td>\n",
       "      <td>0</td>\n",
       "      <td>...</td>\n",
       "      <td>0</td>\n",
       "      <td>0</td>\n",
       "      <td>0</td>\n",
       "      <td>0</td>\n",
       "      <td>0</td>\n",
       "      <td>0</td>\n",
       "      <td>0</td>\n",
       "      <td>0</td>\n",
       "      <td>0</td>\n",
       "      <td>0</td>\n",
       "    </tr>\n",
       "    <tr>\n",
       "      <th>1</th>\n",
       "      <td>0</td>\n",
       "      <td>0</td>\n",
       "      <td>0</td>\n",
       "      <td>0</td>\n",
       "      <td>0</td>\n",
       "      <td>0</td>\n",
       "      <td>0</td>\n",
       "      <td>0</td>\n",
       "      <td>0</td>\n",
       "      <td>0</td>\n",
       "      <td>...</td>\n",
       "      <td>0</td>\n",
       "      <td>0</td>\n",
       "      <td>0</td>\n",
       "      <td>0</td>\n",
       "      <td>0</td>\n",
       "      <td>0</td>\n",
       "      <td>0</td>\n",
       "      <td>0</td>\n",
       "      <td>0</td>\n",
       "      <td>0</td>\n",
       "    </tr>\n",
       "    <tr>\n",
       "      <th>2</th>\n",
       "      <td>0</td>\n",
       "      <td>0</td>\n",
       "      <td>0</td>\n",
       "      <td>0</td>\n",
       "      <td>0</td>\n",
       "      <td>0</td>\n",
       "      <td>0</td>\n",
       "      <td>0</td>\n",
       "      <td>0</td>\n",
       "      <td>0</td>\n",
       "      <td>...</td>\n",
       "      <td>0</td>\n",
       "      <td>0</td>\n",
       "      <td>0</td>\n",
       "      <td>0</td>\n",
       "      <td>0</td>\n",
       "      <td>0</td>\n",
       "      <td>0</td>\n",
       "      <td>0</td>\n",
       "      <td>0</td>\n",
       "      <td>0</td>\n",
       "    </tr>\n",
       "    <tr>\n",
       "      <th>3</th>\n",
       "      <td>0</td>\n",
       "      <td>0</td>\n",
       "      <td>0</td>\n",
       "      <td>0</td>\n",
       "      <td>0</td>\n",
       "      <td>0</td>\n",
       "      <td>0</td>\n",
       "      <td>0</td>\n",
       "      <td>0</td>\n",
       "      <td>0</td>\n",
       "      <td>...</td>\n",
       "      <td>0</td>\n",
       "      <td>0</td>\n",
       "      <td>0</td>\n",
       "      <td>0</td>\n",
       "      <td>0</td>\n",
       "      <td>0</td>\n",
       "      <td>0</td>\n",
       "      <td>0</td>\n",
       "      <td>0</td>\n",
       "      <td>0</td>\n",
       "    </tr>\n",
       "    <tr>\n",
       "      <th>4</th>\n",
       "      <td>0</td>\n",
       "      <td>0</td>\n",
       "      <td>0</td>\n",
       "      <td>0</td>\n",
       "      <td>0</td>\n",
       "      <td>0</td>\n",
       "      <td>0</td>\n",
       "      <td>0</td>\n",
       "      <td>0</td>\n",
       "      <td>0</td>\n",
       "      <td>...</td>\n",
       "      <td>0</td>\n",
       "      <td>0</td>\n",
       "      <td>0</td>\n",
       "      <td>0</td>\n",
       "      <td>0</td>\n",
       "      <td>0</td>\n",
       "      <td>0</td>\n",
       "      <td>0</td>\n",
       "      <td>0</td>\n",
       "      <td>0</td>\n",
       "    </tr>\n",
       "  </tbody>\n",
       "</table>\n",
       "<p>5 rows × 784 columns</p>\n",
       "</div>"
      ],
      "text/plain": [
       "   0    1    2    3    4    5    6    7    8    9    ...  774  775  776  777  \\\n",
       "0    0    0    0    0    0    0    0    0    0    0  ...    0    0    0    0   \n",
       "1    0    0    0    0    0    0    0    0    0    0  ...    0    0    0    0   \n",
       "2    0    0    0    0    0    0    0    0    0    0  ...    0    0    0    0   \n",
       "3    0    0    0    0    0    0    0    0    0    0  ...    0    0    0    0   \n",
       "4    0    0    0    0    0    0    0    0    0    0  ...    0    0    0    0   \n",
       "\n",
       "   778  779  780  781  782  783  \n",
       "0    0    0    0    0    0    0  \n",
       "1    0    0    0    0    0    0  \n",
       "2    0    0    0    0    0    0  \n",
       "3    0    0    0    0    0    0  \n",
       "4    0    0    0    0    0    0  \n",
       "\n",
       "[5 rows x 784 columns]"
      ]
     },
     "execution_count": 5,
     "metadata": {},
     "output_type": "execute_result"
    }
   ],
   "source": [
    "data = pd.DataFrame(X_train.reshape(X_train.shape[0], -1))\n",
    "data.head()"
   ]
  },
  {
   "cell_type": "code",
   "execution_count": 6,
   "id": "ed22f574-88f5-4d07-a3af-74db51c9480b",
   "metadata": {},
   "outputs": [
    {
     "data": {
      "text/plain": [
       "(56000, 784)"
      ]
     },
     "execution_count": 6,
     "metadata": {},
     "output_type": "execute_result"
    }
   ],
   "source": [
    "data.shape"
   ]
  },
  {
   "cell_type": "markdown",
   "id": "40b5a2d2-4b40-4a74-b5d6-ccd1a5cb47a3",
   "metadata": {},
   "source": [
    "**Dataset contains 56000 rows and 784 columns**"
   ]
  },
  {
   "cell_type": "markdown",
   "id": "b3c715ec-9209-409e-8c61-3319bedac3f2",
   "metadata": {},
   "source": [
    "# Understanding Data"
   ]
  },
  {
   "cell_type": "code",
   "execution_count": 7,
   "id": "732d881d-c3b6-4cef-a39e-67c4ac8bc4a9",
   "metadata": {},
   "outputs": [
    {
     "data": {
      "text/html": [
       "<div>\n",
       "<style scoped>\n",
       "    .dataframe tbody tr th:only-of-type {\n",
       "        vertical-align: middle;\n",
       "    }\n",
       "\n",
       "    .dataframe tbody tr th {\n",
       "        vertical-align: top;\n",
       "    }\n",
       "\n",
       "    .dataframe thead th {\n",
       "        text-align: right;\n",
       "    }\n",
       "</style>\n",
       "<table border=\"1\" class=\"dataframe\">\n",
       "  <thead>\n",
       "    <tr style=\"text-align: right;\">\n",
       "      <th></th>\n",
       "      <th>0</th>\n",
       "      <th>1</th>\n",
       "      <th>2</th>\n",
       "      <th>3</th>\n",
       "      <th>4</th>\n",
       "      <th>5</th>\n",
       "      <th>6</th>\n",
       "      <th>7</th>\n",
       "      <th>8</th>\n",
       "      <th>9</th>\n",
       "      <th>...</th>\n",
       "      <th>774</th>\n",
       "      <th>775</th>\n",
       "      <th>776</th>\n",
       "      <th>777</th>\n",
       "      <th>778</th>\n",
       "      <th>779</th>\n",
       "      <th>780</th>\n",
       "      <th>781</th>\n",
       "      <th>782</th>\n",
       "      <th>783</th>\n",
       "    </tr>\n",
       "  </thead>\n",
       "  <tbody>\n",
       "    <tr>\n",
       "      <th>0</th>\n",
       "      <td>0</td>\n",
       "      <td>0</td>\n",
       "      <td>0</td>\n",
       "      <td>0</td>\n",
       "      <td>0</td>\n",
       "      <td>0</td>\n",
       "      <td>0</td>\n",
       "      <td>0</td>\n",
       "      <td>0</td>\n",
       "      <td>0</td>\n",
       "      <td>...</td>\n",
       "      <td>0</td>\n",
       "      <td>0</td>\n",
       "      <td>0</td>\n",
       "      <td>0</td>\n",
       "      <td>0</td>\n",
       "      <td>0</td>\n",
       "      <td>0</td>\n",
       "      <td>0</td>\n",
       "      <td>0</td>\n",
       "      <td>0</td>\n",
       "    </tr>\n",
       "    <tr>\n",
       "      <th>1</th>\n",
       "      <td>0</td>\n",
       "      <td>0</td>\n",
       "      <td>0</td>\n",
       "      <td>0</td>\n",
       "      <td>0</td>\n",
       "      <td>0</td>\n",
       "      <td>0</td>\n",
       "      <td>0</td>\n",
       "      <td>0</td>\n",
       "      <td>0</td>\n",
       "      <td>...</td>\n",
       "      <td>0</td>\n",
       "      <td>0</td>\n",
       "      <td>0</td>\n",
       "      <td>0</td>\n",
       "      <td>0</td>\n",
       "      <td>0</td>\n",
       "      <td>0</td>\n",
       "      <td>0</td>\n",
       "      <td>0</td>\n",
       "      <td>0</td>\n",
       "    </tr>\n",
       "    <tr>\n",
       "      <th>2</th>\n",
       "      <td>0</td>\n",
       "      <td>0</td>\n",
       "      <td>0</td>\n",
       "      <td>0</td>\n",
       "      <td>0</td>\n",
       "      <td>0</td>\n",
       "      <td>0</td>\n",
       "      <td>0</td>\n",
       "      <td>0</td>\n",
       "      <td>0</td>\n",
       "      <td>...</td>\n",
       "      <td>0</td>\n",
       "      <td>0</td>\n",
       "      <td>0</td>\n",
       "      <td>0</td>\n",
       "      <td>0</td>\n",
       "      <td>0</td>\n",
       "      <td>0</td>\n",
       "      <td>0</td>\n",
       "      <td>0</td>\n",
       "      <td>0</td>\n",
       "    </tr>\n",
       "    <tr>\n",
       "      <th>3</th>\n",
       "      <td>0</td>\n",
       "      <td>0</td>\n",
       "      <td>0</td>\n",
       "      <td>0</td>\n",
       "      <td>0</td>\n",
       "      <td>0</td>\n",
       "      <td>0</td>\n",
       "      <td>0</td>\n",
       "      <td>0</td>\n",
       "      <td>0</td>\n",
       "      <td>...</td>\n",
       "      <td>0</td>\n",
       "      <td>0</td>\n",
       "      <td>0</td>\n",
       "      <td>0</td>\n",
       "      <td>0</td>\n",
       "      <td>0</td>\n",
       "      <td>0</td>\n",
       "      <td>0</td>\n",
       "      <td>0</td>\n",
       "      <td>0</td>\n",
       "    </tr>\n",
       "    <tr>\n",
       "      <th>4</th>\n",
       "      <td>0</td>\n",
       "      <td>0</td>\n",
       "      <td>0</td>\n",
       "      <td>0</td>\n",
       "      <td>0</td>\n",
       "      <td>0</td>\n",
       "      <td>0</td>\n",
       "      <td>0</td>\n",
       "      <td>0</td>\n",
       "      <td>0</td>\n",
       "      <td>...</td>\n",
       "      <td>0</td>\n",
       "      <td>0</td>\n",
       "      <td>0</td>\n",
       "      <td>0</td>\n",
       "      <td>0</td>\n",
       "      <td>0</td>\n",
       "      <td>0</td>\n",
       "      <td>0</td>\n",
       "      <td>0</td>\n",
       "      <td>0</td>\n",
       "    </tr>\n",
       "  </tbody>\n",
       "</table>\n",
       "<p>5 rows × 784 columns</p>\n",
       "</div>"
      ],
      "text/plain": [
       "   0    1    2    3    4    5    6    7    8    9    ...  774  775  776  777  \\\n",
       "0    0    0    0    0    0    0    0    0    0    0  ...    0    0    0    0   \n",
       "1    0    0    0    0    0    0    0    0    0    0  ...    0    0    0    0   \n",
       "2    0    0    0    0    0    0    0    0    0    0  ...    0    0    0    0   \n",
       "3    0    0    0    0    0    0    0    0    0    0  ...    0    0    0    0   \n",
       "4    0    0    0    0    0    0    0    0    0    0  ...    0    0    0    0   \n",
       "\n",
       "   778  779  780  781  782  783  \n",
       "0    0    0    0    0    0    0  \n",
       "1    0    0    0    0    0    0  \n",
       "2    0    0    0    0    0    0  \n",
       "3    0    0    0    0    0    0  \n",
       "4    0    0    0    0    0    0  \n",
       "\n",
       "[5 rows x 784 columns]"
      ]
     },
     "execution_count": 7,
     "metadata": {},
     "output_type": "execute_result"
    }
   ],
   "source": [
    "data.head()"
   ]
  },
  {
   "cell_type": "code",
   "execution_count": 8,
   "id": "7165189c-67f7-482d-b8a4-b04a6ed9e972",
   "metadata": {},
   "outputs": [
    {
     "name": "stdout",
     "output_type": "stream",
     "text": [
      "<class 'pandas.core.frame.DataFrame'>\n",
      "RangeIndex: 56000 entries, 0 to 55999\n",
      "Columns: 784 entries, 0 to 783\n",
      "dtypes: uint8(784)\n",
      "memory usage: 41.9 MB\n"
     ]
    }
   ],
   "source": [
    "data.info()"
   ]
  },
  {
   "cell_type": "markdown",
   "id": "1eeb284b-4b02-4a28-b4dc-2492ef1b0c0a",
   "metadata": {},
   "source": [
    "# ----------- Descriptive Statistics -----------"
   ]
  },
  {
   "cell_type": "code",
   "execution_count": 9,
   "id": "2d2896c4-f39f-4d2a-9564-54db37f26636",
   "metadata": {},
   "outputs": [
    {
     "name": "stdout",
     "output_type": "stream",
     "text": [
      "Descriptive Statistics for MNIST Dataset (Pixel Values):\n",
      "           0        1        2        3        4        5        6        7    \\\n",
      "count  56000.0  56000.0  56000.0  56000.0  56000.0  56000.0  56000.0  56000.0   \n",
      "mean       0.0      0.0      0.0      0.0      0.0      0.0      0.0      0.0   \n",
      "std        0.0      0.0      0.0      0.0      0.0      0.0      0.0      0.0   \n",
      "min        0.0      0.0      0.0      0.0      0.0      0.0      0.0      0.0   \n",
      "25%        0.0      0.0      0.0      0.0      0.0      0.0      0.0      0.0   \n",
      "50%        0.0      0.0      0.0      0.0      0.0      0.0      0.0      0.0   \n",
      "75%        0.0      0.0      0.0      0.0      0.0      0.0      0.0      0.0   \n",
      "max        0.0      0.0      0.0      0.0      0.0      0.0      0.0      0.0   \n",
      "\n",
      "           8        9    ...           774           775           776  \\\n",
      "count  56000.0  56000.0  ...  56000.000000  56000.000000  56000.000000   \n",
      "mean       0.0      0.0  ...      0.198304      0.103268      0.047321   \n",
      "std        0.0      0.0  ...      5.974174      4.376775      2.763087   \n",
      "min        0.0      0.0  ...      0.000000      0.000000      0.000000   \n",
      "25%        0.0      0.0  ...      0.000000      0.000000      0.000000   \n",
      "50%        0.0      0.0  ...      0.000000      0.000000      0.000000   \n",
      "75%        0.0      0.0  ...      0.000000      0.000000      0.000000   \n",
      "max        0.0      0.0  ...    254.000000    254.000000    253.000000   \n",
      "\n",
      "                777           778           779      780      781      782  \\\n",
      "count  56000.000000  56000.000000  56000.000000  56000.0  56000.0  56000.0   \n",
      "mean       0.017107      0.015804      0.002143      0.0      0.0      0.0   \n",
      "std        1.573441      1.734699      0.358765      0.0      0.0      0.0   \n",
      "min        0.000000      0.000000      0.000000      0.0      0.0      0.0   \n",
      "25%        0.000000      0.000000      0.000000      0.0      0.0      0.0   \n",
      "50%        0.000000      0.000000      0.000000      0.0      0.0      0.0   \n",
      "75%        0.000000      0.000000      0.000000      0.0      0.0      0.0   \n",
      "max      253.000000    254.000000     62.000000      0.0      0.0      0.0   \n",
      "\n",
      "           783  \n",
      "count  56000.0  \n",
      "mean       0.0  \n",
      "std        0.0  \n",
      "min        0.0  \n",
      "25%        0.0  \n",
      "50%        0.0  \n",
      "75%        0.0  \n",
      "max        0.0  \n",
      "\n",
      "[8 rows x 784 columns]\n"
     ]
    }
   ],
   "source": [
    "print(\"Descriptive Statistics for MNIST Dataset (Pixel Values):\")\n",
    "df_stats = pd.DataFrame(X_train.reshape(X_train.shape[0], -1))\n",
    "print(df_stats.describe())"
   ]
  },
  {
   "cell_type": "markdown",
   "id": "9c11e68a-7c70-4376-95ed-6c1e0674de54",
   "metadata": {},
   "source": [
    "**Each column corresponds to a specific pixel, and the statistics—such as mean, standard deviation, minimum, maximum, and quartiles—reveal the distribution of values across all samples. Many pixels, especially those at the beginning and end (e.g., columns 0–7 and 783), have all-zero values, indicating inactive or consistently black pixels in those positions. However, several middle columns (like 774–779) show non-zero means and standard deviations, suggesting active pixels where digit strokes frequently appear.**"
   ]
  },
  {
   "cell_type": "markdown",
   "id": "2755de81-45c0-4c9a-a86d-62531fc86b21",
   "metadata": {},
   "source": [
    "# Applying Models"
   ]
  },
  {
   "cell_type": "markdown",
   "id": "3492d131-e792-4736-9f9f-aee53fabc6b0",
   "metadata": {},
   "source": [
    "# ----------- Machine Learning Models -----------"
   ]
  },
  {
   "cell_type": "markdown",
   "id": "85c96f17-9c20-41c4-9859-64754a37ea34",
   "metadata": {},
   "source": [
    "***Flatten and normalize images***"
   ]
  },
  {
   "cell_type": "code",
   "execution_count": 10,
   "id": "0aeaa6f5-c5c0-4d1e-880a-967cd619d86f",
   "metadata": {},
   "outputs": [],
   "source": [
    "X_train_flat = X_train.reshape((X_train.shape[0], -1)) / 255.0\n",
    "X_test_flat = X_test.reshape((X_test.shape[0], -1)) / 255.0"
   ]
  },
  {
   "cell_type": "markdown",
   "id": "df9a6138-a175-40f6-a766-031562bb0a38",
   "metadata": {},
   "source": [
    "# 1. Random Forest"
   ]
  },
  {
   "cell_type": "code",
   "execution_count": 11,
   "id": "86999d8c-e050-4b0e-9819-bde465079874",
   "metadata": {},
   "outputs": [
    {
     "name": "stdout",
     "output_type": "stream",
     "text": [
      "\n",
      "--- Random Forest Classification Report ---\n",
      "              precision    recall  f1-score   support\n",
      "\n",
      "           0       0.97      0.99      0.98      1381\n",
      "           1       0.98      0.98      0.98      1575\n",
      "           2       0.96      0.97      0.97      1398\n",
      "           3       0.96      0.96      0.96      1428\n",
      "           4       0.97      0.96      0.96      1365\n",
      "           5       0.97      0.96      0.96      1263\n",
      "           6       0.97      0.98      0.98      1375\n",
      "           7       0.97      0.97      0.97      1459\n",
      "           8       0.96      0.96      0.96      1365\n",
      "           9       0.94      0.94      0.94      1391\n",
      "\n",
      "    accuracy                           0.97     14000\n",
      "   macro avg       0.97      0.97      0.97     14000\n",
      "weighted avg       0.97      0.97      0.97     14000\n",
      "\n"
     ]
    }
   ],
   "source": [
    "rf = RandomForestClassifier(n_estimators=100, random_state=42)\n",
    "rf.fit(X_train_flat, y_train)\n",
    "rf_pred = rf.predict(X_test_flat)\n",
    "print(\"\\n--- Random Forest Classification Report ---\")\n",
    "print(classification_report(y_test, rf_pred))"
   ]
  },
  {
   "cell_type": "markdown",
   "id": "b1dbc750-447c-4c7d-9fe7-d0c732bb8784",
   "metadata": {},
   "source": [
    "# 2. SVM (Use a smaller subset for speed)"
   ]
  },
  {
   "cell_type": "code",
   "execution_count": 12,
   "id": "b9b4652e-5fcb-4a40-a0c8-f7c5e586db60",
   "metadata": {},
   "outputs": [
    {
     "name": "stdout",
     "output_type": "stream",
     "text": [
      "\n",
      "--- SVM Classification Report ---\n",
      "              precision    recall  f1-score   support\n",
      "\n",
      "           0       0.93      0.98      0.95      1381\n",
      "           1       0.93      0.98      0.95      1575\n",
      "           2       0.90      0.91      0.90      1398\n",
      "           3       0.88      0.89      0.88      1428\n",
      "           4       0.92      0.92      0.92      1365\n",
      "           5       0.87      0.87      0.87      1263\n",
      "           6       0.96      0.95      0.95      1375\n",
      "           7       0.92      0.93      0.93      1459\n",
      "           8       0.91      0.83      0.87      1365\n",
      "           9       0.89      0.87      0.88      1391\n",
      "\n",
      "    accuracy                           0.91     14000\n",
      "   macro avg       0.91      0.91      0.91     14000\n",
      "weighted avg       0.91      0.91      0.91     14000\n",
      "\n"
     ]
    }
   ],
   "source": [
    "svm = SVC(kernel='linear')\n",
    "svm.fit(X_train_flat[:10000], y_train[:10000])\n",
    "svm_pred = svm.predict(X_test_flat)\n",
    "print(\"\\n--- SVM Classification Report ---\")\n",
    "print(classification_report(y_test, svm_pred))"
   ]
  },
  {
   "cell_type": "markdown",
   "id": "2284c286-2d3f-4d84-94fe-b75f520a9995",
   "metadata": {},
   "source": [
    "# ----------- Deep Learning Model (CNN) -----------"
   ]
  },
  {
   "cell_type": "markdown",
   "id": "33660918-651a-453d-9a60-c51f98f5f727",
   "metadata": {},
   "source": [
    "***Reshape and normalize images***"
   ]
  },
  {
   "cell_type": "code",
   "execution_count": 13,
   "id": "ac49a1e3-be58-4089-9e62-838d78ab8167",
   "metadata": {},
   "outputs": [],
   "source": [
    "X_train_dl = X_train.reshape(-1, 28, 28, 1).astype('float32') / 255.0\n",
    "X_test_dl = X_test.reshape(-1, 28, 28, 1).astype('float32') / 255.0"
   ]
  },
  {
   "cell_type": "markdown",
   "id": "2a4f6d92-e2e9-4e2e-b56b-d9036119ecfd",
   "metadata": {},
   "source": [
    "***One-hot encode labels***"
   ]
  },
  {
   "cell_type": "code",
   "execution_count": 14,
   "id": "fb628f40-4d96-4ae6-bec4-435facc29467",
   "metadata": {},
   "outputs": [],
   "source": [
    "y_train_dl = to_categorical(y_train, 10)\n",
    "y_test_dl = to_categorical(y_test, 10)"
   ]
  },
  {
   "cell_type": "markdown",
   "id": "23b6b7cb-5aba-4170-92eb-54f29376f865",
   "metadata": {},
   "source": [
    "***Build CNN Model***"
   ]
  },
  {
   "cell_type": "code",
   "execution_count": 15,
   "id": "b1a27785-41b5-46f8-8079-31403b37607f",
   "metadata": {},
   "outputs": [
    {
     "name": "stderr",
     "output_type": "stream",
     "text": [
      "C:\\Users\\utpal\\AppData\\Roaming\\Python\\Python312\\site-packages\\keras\\src\\layers\\convolutional\\base_conv.py:107: UserWarning: Do not pass an `input_shape`/`input_dim` argument to a layer. When using Sequential models, prefer using an `Input(shape)` object as the first layer in the model instead.\n",
      "  super().__init__(activity_regularizer=activity_regularizer, **kwargs)\n"
     ]
    }
   ],
   "source": [
    "cnn = Sequential([\n",
    "    Conv2D(32, kernel_size=(3, 3), activation='relu', input_shape=(28, 28, 1)),\n",
    "    MaxPooling2D(pool_size=(2, 2)),\n",
    "    Conv2D(64, (3, 3), activation='relu'),\n",
    "    MaxPooling2D(pool_size=(2, 2)),\n",
    "    Flatten(),\n",
    "    Dense(128, activation='relu'),\n",
    "    Dense(10, activation='softmax')\n",
    "])"
   ]
  },
  {
   "cell_type": "markdown",
   "id": "f9f4032e-7576-452c-bde2-f31e670f522c",
   "metadata": {},
   "source": [
    "***Compile and train***"
   ]
  },
  {
   "cell_type": "code",
   "execution_count": 16,
   "id": "9c3f521d-a3c0-4f4f-a4d7-15b671929e45",
   "metadata": {},
   "outputs": [
    {
     "name": "stdout",
     "output_type": "stream",
     "text": [
      "Epoch 1/5\n",
      "\u001b[1m394/394\u001b[0m \u001b[32m━━━━━━━━━━━━━━━━━━━━\u001b[0m\u001b[37m\u001b[0m \u001b[1m36s\u001b[0m 76ms/step - accuracy: 0.8421 - loss: 0.5354 - val_accuracy: 0.9752 - val_loss: 0.0754\n",
      "Epoch 2/5\n",
      "\u001b[1m394/394\u001b[0m \u001b[32m━━━━━━━━━━━━━━━━━━━━\u001b[0m\u001b[37m\u001b[0m \u001b[1m29s\u001b[0m 73ms/step - accuracy: 0.9797 - loss: 0.0663 - val_accuracy: 0.9830 - val_loss: 0.0541\n",
      "Epoch 3/5\n",
      "\u001b[1m394/394\u001b[0m \u001b[32m━━━━━━━━━━━━━━━━━━━━\u001b[0m\u001b[37m\u001b[0m \u001b[1m27s\u001b[0m 69ms/step - accuracy: 0.9868 - loss: 0.0425 - val_accuracy: 0.9887 - val_loss: 0.0419\n",
      "Epoch 4/5\n",
      "\u001b[1m394/394\u001b[0m \u001b[32m━━━━━━━━━━━━━━━━━━━━\u001b[0m\u001b[37m\u001b[0m \u001b[1m29s\u001b[0m 73ms/step - accuracy: 0.9904 - loss: 0.0315 - val_accuracy: 0.9862 - val_loss: 0.0444\n",
      "Epoch 5/5\n",
      "\u001b[1m394/394\u001b[0m \u001b[32m━━━━━━━━━━━━━━━━━━━━\u001b[0m\u001b[37m\u001b[0m \u001b[1m29s\u001b[0m 73ms/step - accuracy: 0.9930 - loss: 0.0221 - val_accuracy: 0.9884 - val_loss: 0.0405\n"
     ]
    },
    {
     "data": {
      "text/plain": [
       "<keras.src.callbacks.history.History at 0x1b117db7020>"
      ]
     },
     "execution_count": 16,
     "metadata": {},
     "output_type": "execute_result"
    }
   ],
   "source": [
    "cnn.compile(optimizer='adam', loss='categorical_crossentropy', metrics=['accuracy'])\n",
    "cnn.fit(X_train_dl, y_train_dl, epochs=5, batch_size=128, validation_split=0.1,verbose=1)"
   ]
  },
  {
   "cell_type": "markdown",
   "id": "e23e0dee-0b5e-47f2-911b-7d6c5c7d2223",
   "metadata": {},
   "source": [
    "***Evaluate***"
   ]
  },
  {
   "cell_type": "code",
   "execution_count": 17,
   "id": "43106015-7f5c-472e-92a1-79cbd4991e66",
   "metadata": {},
   "outputs": [
    {
     "name": "stdout",
     "output_type": "stream",
     "text": [
      "\u001b[1m438/438\u001b[0m \u001b[32m━━━━━━━━━━━━━━━━━━━━\u001b[0m\u001b[37m\u001b[0m \u001b[1m8s\u001b[0m 17ms/step\n",
      "\n",
      "--- CNN Classification Report ---\n",
      "              precision    recall  f1-score   support\n",
      "\n",
      "           0       0.99      1.00      0.99      1381\n",
      "           1       0.99      0.99      0.99      1575\n",
      "           2       0.99      0.99      0.99      1398\n",
      "           3       0.99      0.99      0.99      1428\n",
      "           4       0.98      0.99      0.99      1365\n",
      "           5       0.99      0.99      0.99      1263\n",
      "           6       0.99      0.99      0.99      1375\n",
      "           7       0.98      0.99      0.99      1459\n",
      "           8       0.99      0.98      0.98      1365\n",
      "           9       0.99      0.97      0.98      1391\n",
      "\n",
      "    accuracy                           0.99     14000\n",
      "   macro avg       0.99      0.99      0.99     14000\n",
      "weighted avg       0.99      0.99      0.99     14000\n",
      "\n"
     ]
    }
   ],
   "source": [
    "cnn_pred_probs = cnn.predict(X_test_dl)\n",
    "cnn_pred = np.argmax(cnn_pred_probs, axis=1)\n",
    "y_test_labels = np.argmax(y_test_dl, axis=1)\n",
    "\n",
    "print(\"\\n--- CNN Classification Report ---\")\n",
    "print(classification_report(y_test_labels, cnn_pred))"
   ]
  },
  {
   "cell_type": "markdown",
   "id": "9e708d86-4bb8-4846-82de-6583ebe07fa9",
   "metadata": {},
   "source": [
    "**Each report includes performance metrics such as precision, recall, and f1-score for all ten-digit classes (0–9), along with the total number of test samples per class (support). The Random Forest model achieved an overall accuracy of 97%, showing consistent performance across most classes with f1-scores mostly around 0.96 to 0.98. The SVM model yielded a slightly lower accuracy of 91%, with comparatively lower precision and recall values, particularly for digits like 4, 5, and 9, indicating it struggled more with these. In contrast, the CNN model outperformed both, achieving an impressive 99% accuracy, with near-perfect precision, recall, and f1-scores across all digit classes.**"
   ]
  },
  {
   "cell_type": "markdown",
   "id": "5b9d00ec-2af6-4059-9abe-a8a6cb423a6f",
   "metadata": {},
   "source": [
    "# Bar Graph to compare the accuracy of different models"
   ]
  },
  {
   "cell_type": "markdown",
   "id": "12ab2dad-0ac8-4cb0-a6fa-fd525ed7ab46",
   "metadata": {},
   "source": [
    "**Calculate accuracy scores**"
   ]
  },
  {
   "cell_type": "code",
   "execution_count": 18,
   "id": "6d0222c7-589b-4a16-8809-65acd5929b9e",
   "metadata": {},
   "outputs": [],
   "source": [
    "accuracy_rf = accuracy_score(y_test, rf_pred)\n",
    "accuracy_svm = accuracy_score(y_test, svm_pred)\n",
    "accuracy_cnn = accuracy_score(y_test_labels, cnn_pred)"
   ]
  },
  {
   "cell_type": "markdown",
   "id": "d3d4c147-24a2-4f76-acf0-f14056387b56",
   "metadata": {},
   "source": [
    "**Model names and their accuracies**"
   ]
  },
  {
   "cell_type": "code",
   "execution_count": 19,
   "id": "5c103761-d494-4671-9663-37986584bec2",
   "metadata": {},
   "outputs": [],
   "source": [
    "model_names = ['Random Forest', 'SVM', 'CNN']\n",
    "accuracies = [accuracy_rf, accuracy_svm, accuracy_cnn]"
   ]
  },
  {
   "cell_type": "markdown",
   "id": "4e62f692-4b84-4092-a923-75e69f423079",
   "metadata": {},
   "source": [
    "**Plot the bar chart**"
   ]
  },
  {
   "cell_type": "code",
   "execution_count": 20,
   "id": "69a18580-4be4-4f3a-84c0-410fa24dab6b",
   "metadata": {},
   "outputs": [
    {
     "data": {
      "image/png": "[encoded data removed]",
      "text/plain": [
       "<Figure size 800x500 with 1 Axes>"
      ]
     },
     "metadata": {},
     "output_type": "display_data"
    }
   ],
   "source": [
    "plt.figure(figsize=(8, 5))\n",
    "bars = plt.bar(model_names, accuracies, color=['skyblue', 'lightcoral', 'mediumseagreen'])\n",
    "plt.ylim(0.9, 1.0)\n",
    "plt.title('Model Accuracy Comparison on MNIST')\n",
    "plt.ylabel('Accuracy')\n",
    "plt.xlabel('Model')\n",
    "plt.grid(axis='y', linestyle='--', alpha=0.7)\n",
    "\n",
    "#Add value labels on top of bars\n",
    "\n",
    "for bar in bars:\n",
    "    height = bar.get_height()\n",
    "    plt.text(bar.get_x() + bar.get_width()/2.0, height + 0.002, f'{height:.4f}', ha='center', va='bottom')\n",
    "\n",
    "plt.show()"
   ]
  },
  {
   "cell_type": "markdown",
   "id": "91ad9368-c010-46a0-843f-ef0eb6862497",
   "metadata": {},
   "source": [
    "**The performance of different models are clearly illustrated in the accuracy comparison graph, which visually highlights the superior performance of the CNN model over Random Forest and SVM, making it the most effective approach for handwritten digit recognition on the MNIST dataset.**"
   ]
  }
 ],
 "metadata": {
  "kernelspec": {
   "display_name": "Python 3 (ipykernel)",
   "language": "python",
   "name": "python3"
  },
  "language_info": {
   "codemirror_mode": {
    "name": "ipython",
    "version": 3
   },
   "file_extension": ".py",
   "mimetype": "text/x-python",
   "name": "python",
   "nbconvert_exporter": "python",
   "pygments_lexer": "ipython3",
   "version": "3.12.7"
  }
 },
 "nbformat": 4,
 "nbformat_minor": 5
}
